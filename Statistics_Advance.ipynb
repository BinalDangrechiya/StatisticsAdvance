{
  "nbformat": 4,
  "nbformat_minor": 0,
  "metadata": {
    "colab": {
      "provenance": []
    },
    "kernelspec": {
      "name": "python3",
      "display_name": "Python 3"
    },
    "language_info": {
      "name": "python"
    }
  },
  "cells": [
    {
      "cell_type": "markdown",
      "source": [
        " Q1 : Define the z-statistic and explain its relationship to the standard normal distribution. How is the\n",
        "z-statistic used in hypothesis testing?"
      ],
      "metadata": {
        "id": "GbtuD1JC0Usm"
      }
    },
    {
      "cell_type": "markdown",
      "source": [
        "* Z-Statistic :\n",
        "\n",
        "A z-statistic is a standardized score that indicates how many standard deviations a data point is from the mean of a population. It's a common tool in statistics, particularly in hypothesis testing.\n",
        "\n",
        "* Relationship to Standard Normal Distribution :\n",
        "\n",
        "The z-statistic is directly related to the standard normal distribution, also known as the standard Gaussian distribution. This is a probability distribution with a mean of 0 and a standard deviation of 1.\n",
        "\n",
        "Key points:\n",
        "\n",
        "Standardization: The z-statistic standardizes data points, making it easier to compare values from different distributions.\n",
        "\n",
        "Normal Distribution: When the data is normally distributed, the z-statistic follows the standard normal distribution.\n",
        "\n",
        "* Using Z-Statistic in Hypothesis Testing :\n",
        "\n",
        "The z-statistic is a crucial tool in hypothesis testing, especially when dealing with large sample sizes or when the population standard deviation is known.\n",
        "\n",
        "Steps involved:\n",
        "\n",
        "1. State Hypotheses: Formulate the null and alternative hypotheses.\n",
        "2. Calculate Z-Statistic: Compute the z-statistic using the sample mean,     population mean, population standard deviation, and sample size.\n",
        "3. Determine Critical Value: Find the critical value(s) based on the significance level (alpha) and the type of test (one-tailed or two-tailed).\n",
        "4. Make Decision: Compare the calculated z-statistic to the critical value(s).\n",
        " * If the z-statistic falls in the rejection region, reject the null hypothesis.\n",
        " * If the z-statistic does not fall in the rejection region, fail to reject the null hypothesis.\n",
        "\n",
        "Example:\n",
        "\n",
        "Suppose we want to test if the average height of students in a school is different from the national average of 165 cm. We collect a sample of 100 students and find the sample mean to be 168 cm with a population standard deviation of 10 cm.\n",
        "\n",
        "* Null Hypothesis: The average height of students in the school is 165 cm.\n",
        "* Alternative Hypothesis: The average height of students in the school is different from 165 cm.\n",
        "\n",
        "We can calculate the z-statistic and compare it to the critical value at a given significance level to determine if there is sufficient evidence to reject the null hypothesis."
      ],
      "metadata": {
        "id": "o6lNJxeXC3Gp"
      }
    },
    {
      "cell_type": "markdown",
      "source": [
        "Q2 : What is a p-value, and how is it used in hypothesis testing? What does it mean if the p-value is\n",
        "very small (e.g., 0.01)?"
      ],
      "metadata": {
        "id": "4d27SU__0bai"
      }
    },
    {
      "cell_type": "markdown",
      "source": [
        "* P-Value: A Statistical Significance Measure :\n",
        "\n",
        "A p-value is a probability value that measures the evidence against a null hypothesis. It represents the likelihood of observing a sample statistic as extreme or more extreme than the one obtained, assuming the null hypothesis is true.\n",
        "\n",
        "* How P-Values are Used in Hypothesis Testing :\n",
        "\n",
        "1. State Hypotheses : Formulate the null and alternative hypotheses.\n",
        "2. Calculate Test Statistic : Compute a test statistic (e.g., z-statistic, t-statistic, F-statistic) based on the sample data.\n",
        "3. Determine P-Value : Find the p-value associated with the test statistic using a probability distribution (e.g., standard normal distribution, t-distribution, F-distribution).\n",
        "4. Compare P-Value to Significance Level : Set a significance level (alpha) and compare it to the p-value.\n",
        "  * If the p-value is less than or equal to the significance level, reject the null hypothesis.\n",
        "  * If the p-value is greater than the significance level, fail to reject the null hypothesis.\n",
        "\n",
        "* Interpreting a Small P-Value :\n",
        "\n",
        "A very small p-value, such as 0.01, indicates that the observed data is unlikely to occur if the null hypothesis were true. In other words, there is strong evidence against the null hypothesis.\n",
        "\n",
        "Example :\n",
        "\n",
        "Suppose we are testing if a new drug is effective in reducing blood pressure. The null hypothesis is that the drug has no effect. If we obtain a p-value of 0.01, it means that there is only a 1% chance of observing such a significant decrease in blood pressure (or a more extreme result) if the drug were actually ineffective. This provides strong evidence in favor of the alternative hypothesis (i.e., the drug is effective).\n",
        "\n",
        "Key points to remember :\n",
        "\n",
        " * Smaller p-value : Stronger evidence against the null hypothesis.\n",
        " * Significance level : Determines the threshold for rejecting the null hypothesis.\n",
        " * Contextual interpretation : The meaning of a p-value should always be considered in the context of the research question and the specific test used.\n",
        "In conclusion, the p-value is a valuable tool in hypothesis testing, providing a quantitative measure of the evidence against the null hypothesis. A small p-value suggests that the observed data is unlikely to occur under the null hypothesis, leading to a rejection of it in favor of the alternative hypothesis."
      ],
      "metadata": {
        "id": "eQY8vTgEE-Fh"
      }
    },
    {
      "cell_type": "markdown",
      "source": [
        "Q3 : Compare and contrast the binomial and Bernoulli distributions."
      ],
      "metadata": {
        "id": "M2doFHrI0gzD"
      }
    },
    {
      "cell_type": "markdown",
      "source": [
        "Both the binomial and Bernoulli distributions are probability distributions used to model the number of successes in a sequence of independent trials. However, they differ in their scope and the number of trials they consider.\n",
        "\n",
        "* Bernoulli Distribution :\n",
        " * Scope: Models the outcome of a single binary trial (e.g., success or failure, yes or no).\n",
        " * Parameters:\n",
        "    * p: Probability of success.\n",
        "    * q: Probability of failure (1 - p).\n",
        " * Probability Mass Function (PMF):\n",
        "    * P(X = 1) = p\n",
        "    * P(X = 0) = q\n",
        "* Binomial Distribution :\n",
        " * Scope: Models the number of successes in a fixed number of independent Bernoulli trials.\n",
        " * Parameters:\n",
        "    * n: Number of trials.\n",
        "    * p: Probability of success in a single trial.\n",
        " * Probability Mass Function (PMF):\n",
        "    * P(X = k) = C(n, k) * p^k * q^(n-k) where C(n, k) is the binomial coefficient (number of combinations of n things taken k at a time).\n",
        "\n",
        "* Binomial VS Bernoulli Keypoints :\n",
        " 1. Bernoulli deals with the outcome of the single trial of the event, whereas Binomial deals with the outcome of the multiple trials of the single event.\n",
        " 2. Bernoulli is used when the outcome of an event is required for only one time, whereas the Binomial is used when the outcome of an event is required multiple times."
      ],
      "metadata": {
        "id": "FbuffvvtIwUJ"
      }
    },
    {
      "cell_type": "markdown",
      "source": [
        " Q4 : Under what conditions is the binomial distribution used, and how does it relate to the Bernoulli\n",
        "distribution?"
      ],
      "metadata": {
        "id": "QMmkVwdp0lYS"
      }
    },
    {
      "cell_type": "markdown",
      "source": [
        "* The binomial distribution is used under the following conditions:\n",
        "\n",
        " 1. Fixed number of trials (n): The experiment must consist of a fixed number of independent trials.\n",
        " 2. Binary outcomes: Each trial must have only two possible outcomes, typically labeled \"success\" and \"failure.\"\n",
        " 3. Constant probability of success (p): The probability of success (p) must remain the same for each trial.\n",
        " 4. Independence: The trials must be independent, meaning the outcome of one trial does not affect the outcome of another.\n",
        "\n",
        "* Relationship to the Bernoulli distribution:\n",
        "\n",
        "The binomial distribution is essentially a generalization of the Bernoulli distribution. A Bernoulli distribution models the outcome of a single binary trial, while a binomial distribution models the number of successes in a sequence of independent Bernoulli trials.\n",
        "\n",
        "In other words, if you have n independent Bernoulli trials, each with probability of success p, the total number of successes in those trials follows a binomial distribution.\n",
        "\n",
        "* Example:\n",
        "\n",
        " * Bernoulli distribution: Flipping a coin once and recording whether it lands heads or tails.\n",
        " * Binomial distribution: Flipping a coin 10 times and counting the number of heads.\n",
        "\n",
        "In the first case, we are interested in the outcome of a single trial. In the second case, we are interested in the total number of successes in 10 trials, which follows a binomial distribution."
      ],
      "metadata": {
        "id": "Za5Rkw0-MruY"
      }
    },
    {
      "cell_type": "markdown",
      "source": [
        "Q5 : What are the key properties of the Poisson distribution, and when is it appropriate to use this\n",
        "distribution?"
      ],
      "metadata": {
        "id": "asYtaKQZ0pxB"
      }
    },
    {
      "cell_type": "markdown",
      "source": [
        "* Key Properties of the Poisson Distribution\n",
        "\n",
        "The Poisson distribution is a discrete probability distribution that expresses the probability of a given number of events occurring in a fixed interval of time or space. It is often used to model the number of occurrences of rare events.\n",
        "\n",
        "* Key properties:\n",
        "\n",
        " * Discrete: The Poisson distribution deals with discrete random variables (e.g., the number of occurrences).\n",
        " * Non-negative: The number of occurrences cannot be negative.\n",
        " * Mean and Variance: The mean (λ) and variance of a Poisson distribution are equal.\n",
        " * Single Parameter: The Poisson distribution is characterized by a single parameter, λ, which represents the average rate of occurrences.\n",
        " * Asymptotic Approximation: For large values of λ, the Poisson distribution can be approximated by the normal distribution.\n",
        "\n",
        "* When to Use the Poisson Distribution\n",
        "\n",
        "  * The Poisson distribution is appropriate when:\n",
        "\n",
        "    * Rare events: The events being modeled are relatively rare.\n",
        "    * Independence: The occurrences of events are independent of each other.\n",
        "    * Constant rate: The average rate of occurrences (λ) remains constant over the time or space interval.\n",
        "\n",
        "  * Common applications:\n",
        "\n",
        "    * Waiting times: Modeling the number of customers arriving at a store or the number of calls to a call center in a given time interval.\n",
        "    * Defects: Modeling the number of defects in a manufactured product.\n",
        "    * Particle physics: Modeling the number of particles emitted from a radioactive source.\n",
        "    * Insurance: Modeling the number of claims in a given time period."
      ],
      "metadata": {
        "id": "M_iHjz0KOdxZ"
      }
    },
    {
      "cell_type": "markdown",
      "source": [
        "Q6 : Define the terms \"probability distribution\" and \"probability density function\" (PDF). How does a\n",
        "PDF differ from a probability mass function (PMF)?"
      ],
      "metadata": {
        "id": "2fjwpGcW0uRI"
      }
    },
    {
      "cell_type": "markdown",
      "source": [
        "Probability Distribution, PDF, and PMF\n",
        "* Probability Distribution :\n",
        "\n",
        "A probability distribution is a mathematical function that describes the likelihood of different possible values of a random variable. It provides a way to quantify the uncertainty associated with the outcomes of a random experiment.\n",
        "\n",
        "* Probability Density Function (PDF) :\n",
        "\n",
        "A probability density function (PDF) is used for continuous random variables. It represents the probability that the random variable takes on a value within a small interval around a specific point. The PDF is defined such that the probability of the variable falling within any range is equal to the integral of the PDF over that range.\n",
        "\n",
        "Key properties of a PDF:\n",
        "\n",
        "  1. Non-negative: The PDF is always greater than or equal to zero.\n",
        "  2. Total probability: The integral of the PDF over its entire domain is equal to 1.\n",
        "\n",
        "\n",
        "* Probability Mass Function (PMF) :\n",
        "\n",
        "A probability mass function (PMF) is used for discrete random variables. It gives the probability that a discrete random variable is exactly equal to some value.\n",
        "\n",
        "Key properties of a PMF:\n",
        "\n",
        "  1.  Non-negative: The PMF is always greater than or equal to zero.\n",
        "  2. Total probability: The sum of the PMF values for all possible outcomes is equal to 1.\n",
        "  \n",
        "\n",
        "* Differences between PDF and PMF:\n",
        "\n",
        "  * Continuous vs. discrete: PDFs are used for continuous random variables, while PMFs are used for discrete random variables.\n",
        "  * Probability at a point: The PDF gives the probability density at a point, while the PMF gives the exact probability of a specific value.\n",
        "  * Integration vs. summation: To find the probability of a range of values for a continuous random variable, you integrate the PDF over that range. For a discrete random variable, you sum the PMF values for the corresponding points."
      ],
      "metadata": {
        "id": "krThnKOfQayS"
      }
    },
    {
      "cell_type": "markdown",
      "source": [
        "Q7 : Explain the Central Limit Theorem (CLT) with example."
      ],
      "metadata": {
        "id": "WCV6zy3I0zB4"
      }
    },
    {
      "cell_type": "markdown",
      "source": [
        "The Central Limit Theorem (CLT) is a fundamental theorem in probability theory that states:\n",
        "\n",
        "* Regardless of the underlying distribution of the population, if you take sufficiently large random samples from that population, the distribution of the sample means will approach a normal distribution.\n",
        "\n",
        "In simpler terms: No matter what the shape of the original population distribution (even if it's not normal), as you take larger and larger samples from that population, the average of those samples will tend to follow a normal distribution.\n",
        "\n",
        "Example: Coin Tosses\n",
        "\n",
        "Let's say we flip a coin 10 times and record the number of heads. This is a binomial distribution. If we repeat this experiment many times, the distribution of the sample means (i.e., the average number of heads per 10 flips) will start to resemble a normal distribution, even though the original distribution (binomial) is not normal.\n",
        "\n",
        "Key points about the CLT:\n",
        "\n",
        "* Sample size: The larger the sample size, the closer the distribution of sample means will be to normal.\n",
        "* Population distribution: The CLT holds regardless of the population distribution, but the rate of convergence to normality can vary.\n",
        "* Practical implications: The CLT is essential for statistical inference, as it allows us to use normal distribution-based methods even when the underlying population is not normally distributed.\n",
        "\n",
        "Why is the CLT important?\n",
        "\n",
        "The CLT is crucial in statistics because it justifies the use of normal distribution-based methods, such as t-tests and z-tests, even when the underlying population is not normally distributed. This is especially useful when dealing with large sample sizes."
      ],
      "metadata": {
        "id": "rd8nbI9fTALB"
      }
    },
    {
      "cell_type": "markdown",
      "source": [
        "Q8 : Compare z-scores and t-scores. When should you use a z-score, and when should a t-score be a pplied instead?"
      ],
      "metadata": {
        "id": "S4WSsRIY02_y"
      }
    },
    {
      "cell_type": "markdown",
      "source": [
        "Z-Scores vs. T-Scores: A Comparison\n",
        "\n",
        "Both z-scores and t-scores are standardized scores used in statistics to measure how many standard deviations a data point is from the mean of a distribution. However, they are used under different conditions.\n",
        "\n",
        "Z-Scores\n",
        "* Used when:\n",
        " * The population standard deviation is known.\n",
        " * The sample size is large (typically considered 30 or more).\n",
        "* Calculation:\n",
        " * Z = (X - μ) / σ where:\n",
        "   * X is the individual data point\n",
        "   * μ is the population mean\n",
        "   * σ is the population standard deviation\n",
        "\n",
        "T-Scores\n",
        "* Used when:\n",
        " * The population standard deviation is unknown.\n",
        " * The sample size is small (typically considered less than 30).\n",
        "* Calculation:\n",
        " * T = (X̄ - μ) / (s / √n) where:\n",
        "   * X̄ is the sample mean\n",
        "   * μ is the population mean\n",
        "   * s is the sample standard deviation\n",
        "   * n is the sample size\n",
        "\n",
        "Key Differences:\n",
        "\n",
        "* Population standard deviation: Z-scores use the population standard deviation, while t-scores use the sample standard deviation.\n",
        "* Distribution: When the population standard deviation is known, the distribution of z-scores follows the standard normal distribution. When the population standard deviation is unknown, the distribution of t-scores follows the t-distribution, which has a wider spread than the standard normal distribution, especially for smaller sample sizes.\n",
        "\n",
        "When to use a z-score vs. a t-score:\n",
        "\n",
        "* Large sample size and known population standard deviation: Use a z-score.\n",
        "* Small sample size and unknown population standard deviation: Use a t-score."
      ],
      "metadata": {
        "id": "N7tniG-JT4Wy"
      }
    },
    {
      "cell_type": "markdown",
      "source": [
        "Q9 : Given a sample mean of 105, a population mean of 100, a standard deviation of 15, and a sample\n",
        "size of 25, calculate the z-score and p-value. Based on a significance level of 0.05, do you reject or fail to\n",
        "reject the null hypothesis?\n",
        "\n",
        " Task: Write Python code to calculate the z-score and p-value for the given data.\n",
        "\n",
        "Objective: Apply the formula for the z-score and interpret the p-value for hypothesis testing."
      ],
      "metadata": {
        "id": "K2YEEwla0_Na"
      }
    },
    {
      "cell_type": "code",
      "source": [
        "import scipy.stats as stats\n",
        "\n",
        "# Given data\n",
        "sample_mean = 105\n",
        "population_mean = 100\n",
        "standard_deviation = 15\n",
        "sample_size = 25\n",
        "significance_level = 0.05\n",
        "\n",
        "# Calculate the z-score\n",
        "z_score = (sample_mean - population_mean) / (standard_deviation / sample_size**0.5)\n",
        "\n",
        "# Calculate the p-value (two-tailed test)\n",
        "p_value = stats.norm.cdf(z_score) * 2\n",
        "\n",
        "# Print the results\n",
        "print(\"Z-score:\", z_score)\n",
        "print(\"P-value:\", p_value)\n",
        "\n",
        "# Make a decision based on the significance level\n",
        "if p_value < significance_level:\n",
        "    print(\"Reject the null hypothesis\")\n",
        "else:\n",
        "    print(\"Fail to reject the null hypothesis\")"
      ],
      "metadata": {
        "colab": {
          "base_uri": "https://localhost:8080/"
        },
        "id": "m1fQZkQyU_yv",
        "outputId": "b785e957-ead3-41b9-9efc-2b5783438036"
      },
      "execution_count": 1,
      "outputs": [
        {
          "output_type": "stream",
          "name": "stdout",
          "text": [
            "Z-score: 1.6666666666666667\n",
            "P-value: 1.9044192954543706\n",
            "Fail to reject the null hypothesis\n"
          ]
        }
      ]
    },
    {
      "cell_type": "markdown",
      "source": [
        "Q10 : Simulate a binomial distribution with 10 trials and a probability of success of 0.6 using Python.\n",
        "Generate 1,000 samples and plot the distribution. What is the expected mean and variance?\n",
        "\n",
        "Task: Use Python to generate the data, plot the distribution, and calculate the mean and variance.\n",
        "\n",
        "Objective: Understand the properties of a binomial distribution and verify them through simulation."
      ],
      "metadata": {
        "id": "oGO_oyPt1EpC"
      }
    },
    {
      "cell_type": "code",
      "source": [
        "import numpy as np\n",
        "import matplotlib.pyplot as plt\n",
        "\n",
        "# Parameters for binomial distribution\n",
        "n_trials = 10\n",
        "p_success = 0.6\n",
        "n_samples = 1000\n",
        "\n",
        "# Generate 1000 samples from a binomial distribution\n",
        "binomial_samples = np.random.binomial(n=n_trials, p=p_success, size=n_samples)\n",
        "\n",
        "# Plot the distribution\n",
        "plt.hist(binomial_samples, bins=np.arange(n_trials+2)-0.5, edgecolor='black', density=True)\n",
        "plt.title('Binomial Distribution (n=10, p=0.6)')\n",
        "plt.xlabel('Number of Successes')\n",
        "plt.ylabel('Probability')\n",
        "plt.xticks(range(n_trials+1))\n",
        "plt.show()\n",
        "\n",
        "# Calculate mean and variance\n",
        "mean_samples = np.mean(binomial_samples)\n",
        "variance_samples = np.var(binomial_samples)\n",
        "\n",
        "# Theoretical mean and variance\n",
        "expected_mean = n_trials * p_success\n",
        "expected_variance = n_trials * p_success * (1 - p_success)\n",
        "\n",
        "mean_samples, variance_samples, expected_mean, expected_variance"
      ],
      "metadata": {
        "colab": {
          "base_uri": "https://localhost:8080/",
          "height": 489
        },
        "id": "hXWK9F14VrdQ",
        "outputId": "e4ad13a1-f2e3-4502-8e6e-a78bb03f22d2"
      },
      "execution_count": 3,
      "outputs": [
        {
          "output_type": "display_data",
          "data": {
            "text/plain": [
              "<Figure size 640x480 with 1 Axes>"
            ],
            "image/png": "[encoded data removed]"
          },
          "metadata": {}
        },
        {
          "output_type": "execute_result",
          "data": {
            "text/plain": [
              "(6.001, 2.346999, 6.0, 2.4000000000000004)"
            ]
          },
          "metadata": {},
          "execution_count": 3
        }
      ]
    }
  ]
}